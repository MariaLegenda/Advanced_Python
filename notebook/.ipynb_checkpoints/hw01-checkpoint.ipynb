{
 "cells": [
  {
   "cell_type": "code",
   "execution_count": 68,
   "metadata": {},
   "outputs": [
    {
     "name": "stdout",
     "output_type": "stream",
     "text": [
      "разработка\n",
      "<class 'str'>\n",
      "\n",
      "b'\\xd1\\x80\\xd0\\xb0\\xd0\\xb7\\xd1\\x80\\xd0\\xb0\\xd0\\xb1\\xd0\\xbe\\xd1\\x82\\xd0\\xba\\xd0\\xb0'\n",
      "<class 'bytes'>\n"
     ]
    }
   ],
   "source": [
    "#__ЗАДАНИЕ1__\n",
    "\n",
    "s1 = 'разработка'\n",
    "print(s1)\n",
    "print(type(s1)) \n",
    "print()\n",
    "\n",
    "us1 = s1.encode('utf-8')\n",
    "print(us1)\n",
    "print(type(us1))"
   ]
  },
  {
   "cell_type": "code",
   "execution_count": 69,
   "metadata": {},
   "outputs": [
    {
     "name": "stdout",
     "output_type": "stream",
     "text": [
      "сокет\n",
      "<class 'str'>\n",
      "\n",
      "b'\\xd1\\x81\\xd0\\xbe\\xd0\\xba\\xd0\\xb5\\xd1\\x82'\n",
      "<class 'bytes'>\n"
     ]
    }
   ],
   "source": [
    "s2 = 'сокет'\n",
    "print(s2)\n",
    "print(type(s2)) \n",
    "print()\n",
    "\n",
    "us2 = s2.encode('utf-8')\n",
    "print(us2)\n",
    "print(type(us2))"
   ]
  },
  {
   "cell_type": "code",
   "execution_count": 70,
   "metadata": {},
   "outputs": [
    {
     "name": "stdout",
     "output_type": "stream",
     "text": [
      "декоратор\n",
      "<class 'str'>\n",
      "\n",
      "b'\\xd0\\xb4\\xd0\\xb5\\xd0\\xba\\xd0\\xbe\\xd1\\x80\\xd0\\xb0\\xd1\\x82\\xd0\\xbe\\xd1\\x80'\n",
      "<class 'bytes'>\n"
     ]
    }
   ],
   "source": [
    "s3 = 'декоратор'\n",
    "print(s3)\n",
    "print(type(s3)) \n",
    "print()\n",
    "\n",
    "us3 = s3.encode('utf-8')\n",
    "print(us3)\n",
    "print(type(us3))"
   ]
  },
  {
   "cell_type": "code",
   "execution_count": 92,
   "metadata": {},
   "outputs": [
    {
     "name": "stdout",
     "output_type": "stream",
     "text": [
      "b'class'\n",
      "<class 'bytes'>\n",
      "5\n",
      "\n",
      "b'function'\n",
      "<class 'bytes'>\n",
      "8\n",
      "\n",
      "b'method'\n",
      "<class 'bytes'>\n",
      "6\n",
      "\n"
     ]
    }
   ],
   "source": [
    "#__ЗАДАНИЕ 2__\n",
    "S1 = [b'class', b'function', b'method']\n",
    "for i in S1:\n",
    "    print(i)\n",
    "    print(type(i))\n",
    "    print(len(i))\n",
    "    print()"
   ]
  },
  {
   "cell_type": "code",
   "execution_count": 74,
   "metadata": {},
   "outputs": [
    {
     "name": "stdout",
     "output_type": "stream",
     "text": [
      "b'attribute'\n"
     ]
    }
   ],
   "source": [
    "#__ЗАДАНИЕ 3__\n",
    "print(b'attribute')"
   ]
  },
  {
   "cell_type": "code",
   "execution_count": 76,
   "metadata": {},
   "outputs": [
    {
     "ename": "SyntaxError",
     "evalue": "bytes can only contain ASCII literal characters. (<ipython-input-76-0a28b705397c>, line 1)",
     "output_type": "error",
     "traceback": [
      "\u001b[1;36m  File \u001b[1;32m\"<ipython-input-76-0a28b705397c>\"\u001b[1;36m, line \u001b[1;32m1\u001b[0m\n\u001b[1;33m    print(b'класс')\u001b[0m\n\u001b[1;37m         ^\u001b[0m\n\u001b[1;31mSyntaxError\u001b[0m\u001b[1;31m:\u001b[0m bytes can only contain ASCII literal characters.\n"
     ]
    }
   ],
   "source": [
    "print(b'класс')"
   ]
  },
  {
   "cell_type": "code",
   "execution_count": 78,
   "metadata": {},
   "outputs": [
    {
     "ename": "SyntaxError",
     "evalue": "bytes can only contain ASCII literal characters. (<ipython-input-78-575a17172844>, line 1)",
     "output_type": "error",
     "traceback": [
      "\u001b[1;36m  File \u001b[1;32m\"<ipython-input-78-575a17172844>\"\u001b[1;36m, line \u001b[1;32m1\u001b[0m\n\u001b[1;33m    print(b'функция')\u001b[0m\n\u001b[1;37m         ^\u001b[0m\n\u001b[1;31mSyntaxError\u001b[0m\u001b[1;31m:\u001b[0m bytes can only contain ASCII literal characters.\n"
     ]
    }
   ],
   "source": [
    "print(b'функция')"
   ]
  },
  {
   "cell_type": "code",
   "execution_count": 80,
   "metadata": {},
   "outputs": [
    {
     "name": "stdout",
     "output_type": "stream",
     "text": [
      "b'type'\n"
     ]
    }
   ],
   "source": [
    "print(b'type')"
   ]
  },
  {
   "cell_type": "code",
   "execution_count": 91,
   "metadata": {},
   "outputs": [
    {
     "name": "stdout",
     "output_type": "stream",
     "text": [
      "разработка\n",
      "b'\\xd1\\x80\\xd0\\xb0\\xd0\\xb7\\xd1\\x80\\xd0\\xb0\\xd0\\xb1\\xd0\\xbe\\xd1\\x82\\xd0\\xba\\xd0\\xb0'\n",
      "разработка\n",
      "\n",
      "администрирование\n",
      "b'\\xd0\\xb0\\xd0\\xb4\\xd0\\xbc\\xd0\\xb8\\xd0\\xbd\\xd0\\xb8\\xd1\\x81\\xd1\\x82\\xd1\\x80\\xd0\\xb8\\xd1\\x80\\xd0\\xbe\\xd0\\xb2\\xd0\\xb0\\xd0\\xbd\\xd0\\xb8\\xd0\\xb5'\n",
      "администрирование\n",
      "\n",
      "protocol\n",
      "b'protocol'\n",
      "protocol\n",
      "\n",
      "standart\n",
      "b'standart'\n",
      "standart\n",
      "\n"
     ]
    }
   ],
   "source": [
    "#__ЗАДАНИЕ4__\n",
    "\n",
    "S2 = ['разработка', 'администрирование', 'protocol', 'standart' ]\n",
    "for i in S2:\n",
    "    print(i)\n",
    "    es = i.encode()\n",
    "    print(es)\n",
    "    ds = es.decode()\n",
    "    print(ds)    \n",
    "    print()"
   ]
  }
 ],
 "metadata": {
  "kernelspec": {
   "display_name": "Python 3",
   "language": "python",
   "name": "python3"
  },
  "language_info": {
   "codemirror_mode": {
    "name": "ipython",
    "version": 3
   },
   "file_extension": ".py",
   "mimetype": "text/x-python",
   "name": "python",
   "nbconvert_exporter": "python",
   "pygments_lexer": "ipython3",
   "version": "3.7.2"
  }
 },
 "nbformat": 4,
 "nbformat_minor": 2
}
